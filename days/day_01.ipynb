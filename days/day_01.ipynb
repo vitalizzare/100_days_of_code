{
 "cells": [
  {
   "cell_type": "markdown",
   "metadata": {},
   "source": [
    "`#100DaysOfCode`"
   ]
  },
  {
   "cell_type": "markdown",
   "metadata": {},
   "source": [
    "# Day 1\n",
    "November 25, 2020"
   ]
  },
  {
   "cell_type": "markdown",
   "metadata": {},
   "source": [
    "## 1\n",
    "I've simplified the code for visual recognizing of the character encoding for the Russian text. Actually, I've discovered the posibility to use built-in methods `str.encode` and `bytes.decode` instead of corresponding functions in the `encodings` module.\n",
    "\n",
    "https://github.com/vitalizzare/Sandbox/blob/main/snippets/decode_russian.py"
   ]
  },
  {
   "cell_type": "markdown",
   "metadata": {},
   "source": [
    "<div class=\"alert alert-block alert-warning\">\n",
    "    <b>Warning:</b> for utf-16 and utf-32 be careful with '\\n' at the end of line. This causes an error while decoding\n",
    "</div>"
   ]
  },
  {
   "cell_type": "markdown",
   "metadata": {},
   "source": [
    "## 2\n",
    "Learned about `try: ... except` how to catch in one place several exceptions:\n",
    "```python\n",
    "try:\n",
    "    parameter = int(sys.argv[2])\n",
    "    assert parameter > 0\n",
    "except (IndexError, ValueError, AssertionError):\n",
    "    parameter = 1\n",
    "```"
   ]
  },
  {
   "cell_type": "markdown",
   "metadata": {},
   "source": [
    "## 3\n",
    "Made a terminal progress bar for iterations, namely for the `pandas.DataFrame.apply` method. Actually, I could have done this earlier, but I forgot about the existence of the `\\r` character, and instead of rewriting info in one place I piled up information on the screen. Now it looks like:\n",
    "\n",
    "    Started at 23:42:46 with update every 1 seconds\n",
    "    [▮▮▮▮▮▮▮▮▮▮▮▮▮▮▮▮▮▮▮▮▮▮▮▮▮▮▮▮▮▮▮▮▮▮▮▮▮▮▮▮▮▮▮▮▮▮▮▮▮▮▮▮▮▮▮▮▮▮▮▮▮]100%\n",
    "    Done at 23:43:07\n",
    "\n",
    "https://github.com/vitalizzare/jupyter_tools/blob/master/pandas_apply_progress.py"
   ]
  },
  {
   "cell_type": "markdown",
   "metadata": {},
   "source": [
    "## 4"
   ]
  },
  {
   "cell_type": "markdown",
   "metadata": {},
   "source": [
    "<div class='alert alert-block alert-danger'>\n",
    "    <b>I need the plan for the next 99 days</b>\n",
    "    </div>"
   ]
  }
 ],
 "metadata": {
  "kernelspec": {
   "display_name": "Python 3.8",
   "language": "python",
   "name": "ipy38jupyter_kernel"
  },
  "language_info": {
   "codemirror_mode": {
    "name": "ipython",
    "version": 3
   },
   "file_extension": ".py",
   "mimetype": "text/x-python",
   "name": "python",
   "nbconvert_exporter": "python",
   "pygments_lexer": "ipython3",
   "version": "3.8.5"
  }
 },
 "nbformat": 4,
 "nbformat_minor": 4
}
